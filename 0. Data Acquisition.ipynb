{
 "cells": [
  {
   "cell_type": "code",
   "execution_count": 4,
   "metadata": {},
   "outputs": [],
   "source": [
    "from scholarly import scholarly\n",
    "#from scholarly import ProxyGenerator\n",
    "#pg = ProxyGenerator()\n",
    "#scholarly.use_proxy(pg)"
   ]
  },
  {
   "cell_type": "code",
   "execution_count": 43,
   "metadata": {},
   "outputs": [
    {
     "data": {
      "text/plain": [
       "(40, 1)"
      ]
     },
     "execution_count": 43,
     "metadata": {},
     "output_type": "execute_result"
    }
   ],
   "source": [
    "import pandas as pd\n",
    "df = pd.read_csv('dados.csv')\n",
    "df = df[:40]\n",
    "df.shape"
   ]
  },
  {
   "cell_type": "code",
   "execution_count": 38,
   "metadata": {},
   "outputs": [
    {
     "ename": "IndexError",
     "evalue": "single positional indexer is out-of-bounds",
     "output_type": "error",
     "traceback": [
      "\u001b[0;31m---------------------------------------------------------------------------\u001b[0m",
      "\u001b[0;31mIndexError\u001b[0m                                Traceback (most recent call last)",
      "\u001b[0;32m<ipython-input-38-1bb147bf7215>\u001b[0m in \u001b[0;36m<module>\u001b[0;34m\u001b[0m\n\u001b[1;32m      4\u001b[0m \u001b[0;31m#rows_year = []\u001b[0m\u001b[0;34m\u001b[0m\u001b[0;34m\u001b[0m\u001b[0;34m\u001b[0m\u001b[0m\n\u001b[1;32m      5\u001b[0m \u001b[0;32mfor\u001b[0m \u001b[0mi\u001b[0m \u001b[0;32min\u001b[0m \u001b[0mrange\u001b[0m\u001b[0;34m(\u001b[0m\u001b[0;36m44\u001b[0m\u001b[0;34m,\u001b[0m\u001b[0;36m45\u001b[0m\u001b[0;34m)\u001b[0m\u001b[0;34m:\u001b[0m\u001b[0;34m\u001b[0m\u001b[0;34m\u001b[0m\u001b[0m\n\u001b[0;32m----> 6\u001b[0;31m     \u001b[0ma\u001b[0m \u001b[0;34m=\u001b[0m \u001b[0mdf\u001b[0m\u001b[0;34m.\u001b[0m\u001b[0miloc\u001b[0m\u001b[0;34m[\u001b[0m\u001b[0mi\u001b[0m\u001b[0;34m]\u001b[0m\u001b[0;34m[\u001b[0m\u001b[0;34m'DOI (se houver)'\u001b[0m\u001b[0;34m]\u001b[0m\u001b[0;34m\u001b[0m\u001b[0;34m\u001b[0m\u001b[0m\n\u001b[0m\u001b[1;32m      7\u001b[0m     \u001b[0msearch_query\u001b[0m \u001b[0;34m=\u001b[0m \u001b[0mscholarly\u001b[0m\u001b[0;34m.\u001b[0m\u001b[0msearch_pubs\u001b[0m\u001b[0;34m(\u001b[0m\u001b[0ma\u001b[0m\u001b[0;34m)\u001b[0m\u001b[0;34m\u001b[0m\u001b[0;34m\u001b[0m\u001b[0m\n\u001b[1;32m      8\u001b[0m     \u001b[0mpub\u001b[0m \u001b[0;34m=\u001b[0m \u001b[0mnext\u001b[0m\u001b[0;34m(\u001b[0m\u001b[0msearch_query\u001b[0m\u001b[0;34m)\u001b[0m\u001b[0;34m\u001b[0m\u001b[0;34m\u001b[0m\u001b[0m\n",
      "\u001b[0;32m~/.local/lib/python3.6/site-packages/pandas/core/indexing.py\u001b[0m in \u001b[0;36m__getitem__\u001b[0;34m(self, key)\u001b[0m\n\u001b[1;32m    877\u001b[0m \u001b[0;34m\u001b[0m\u001b[0m\n\u001b[1;32m    878\u001b[0m             \u001b[0mmaybe_callable\u001b[0m \u001b[0;34m=\u001b[0m \u001b[0mcom\u001b[0m\u001b[0;34m.\u001b[0m\u001b[0mapply_if_callable\u001b[0m\u001b[0;34m(\u001b[0m\u001b[0mkey\u001b[0m\u001b[0;34m,\u001b[0m \u001b[0mself\u001b[0m\u001b[0;34m.\u001b[0m\u001b[0mobj\u001b[0m\u001b[0;34m)\u001b[0m\u001b[0;34m\u001b[0m\u001b[0;34m\u001b[0m\u001b[0m\n\u001b[0;32m--> 879\u001b[0;31m             \u001b[0;32mreturn\u001b[0m \u001b[0mself\u001b[0m\u001b[0;34m.\u001b[0m\u001b[0m_getitem_axis\u001b[0m\u001b[0;34m(\u001b[0m\u001b[0mmaybe_callable\u001b[0m\u001b[0;34m,\u001b[0m \u001b[0maxis\u001b[0m\u001b[0;34m=\u001b[0m\u001b[0maxis\u001b[0m\u001b[0;34m)\u001b[0m\u001b[0;34m\u001b[0m\u001b[0;34m\u001b[0m\u001b[0m\n\u001b[0m\u001b[1;32m    880\u001b[0m \u001b[0;34m\u001b[0m\u001b[0m\n\u001b[1;32m    881\u001b[0m     \u001b[0;32mdef\u001b[0m \u001b[0m_is_scalar_access\u001b[0m\u001b[0;34m(\u001b[0m\u001b[0mself\u001b[0m\u001b[0;34m,\u001b[0m \u001b[0mkey\u001b[0m\u001b[0;34m:\u001b[0m \u001b[0mTuple\u001b[0m\u001b[0;34m)\u001b[0m\u001b[0;34m:\u001b[0m\u001b[0;34m\u001b[0m\u001b[0;34m\u001b[0m\u001b[0m\n",
      "\u001b[0;32m~/.local/lib/python3.6/site-packages/pandas/core/indexing.py\u001b[0m in \u001b[0;36m_getitem_axis\u001b[0;34m(self, key, axis)\u001b[0m\n\u001b[1;32m   1494\u001b[0m \u001b[0;34m\u001b[0m\u001b[0m\n\u001b[1;32m   1495\u001b[0m             \u001b[0;31m# validate the location\u001b[0m\u001b[0;34m\u001b[0m\u001b[0;34m\u001b[0m\u001b[0;34m\u001b[0m\u001b[0m\n\u001b[0;32m-> 1496\u001b[0;31m             \u001b[0mself\u001b[0m\u001b[0;34m.\u001b[0m\u001b[0m_validate_integer\u001b[0m\u001b[0;34m(\u001b[0m\u001b[0mkey\u001b[0m\u001b[0;34m,\u001b[0m \u001b[0maxis\u001b[0m\u001b[0;34m)\u001b[0m\u001b[0;34m\u001b[0m\u001b[0;34m\u001b[0m\u001b[0m\n\u001b[0m\u001b[1;32m   1497\u001b[0m \u001b[0;34m\u001b[0m\u001b[0m\n\u001b[1;32m   1498\u001b[0m             \u001b[0;32mreturn\u001b[0m \u001b[0mself\u001b[0m\u001b[0;34m.\u001b[0m\u001b[0mobj\u001b[0m\u001b[0;34m.\u001b[0m\u001b[0m_ixs\u001b[0m\u001b[0;34m(\u001b[0m\u001b[0mkey\u001b[0m\u001b[0;34m,\u001b[0m \u001b[0maxis\u001b[0m\u001b[0;34m=\u001b[0m\u001b[0maxis\u001b[0m\u001b[0;34m)\u001b[0m\u001b[0;34m\u001b[0m\u001b[0;34m\u001b[0m\u001b[0m\n",
      "\u001b[0;32m~/.local/lib/python3.6/site-packages/pandas/core/indexing.py\u001b[0m in \u001b[0;36m_validate_integer\u001b[0;34m(self, key, axis)\u001b[0m\n\u001b[1;32m   1435\u001b[0m         \u001b[0mlen_axis\u001b[0m \u001b[0;34m=\u001b[0m \u001b[0mlen\u001b[0m\u001b[0;34m(\u001b[0m\u001b[0mself\u001b[0m\u001b[0;34m.\u001b[0m\u001b[0mobj\u001b[0m\u001b[0;34m.\u001b[0m\u001b[0m_get_axis\u001b[0m\u001b[0;34m(\u001b[0m\u001b[0maxis\u001b[0m\u001b[0;34m)\u001b[0m\u001b[0;34m)\u001b[0m\u001b[0;34m\u001b[0m\u001b[0;34m\u001b[0m\u001b[0m\n\u001b[1;32m   1436\u001b[0m         \u001b[0;32mif\u001b[0m \u001b[0mkey\u001b[0m \u001b[0;34m>=\u001b[0m \u001b[0mlen_axis\u001b[0m \u001b[0;32mor\u001b[0m \u001b[0mkey\u001b[0m \u001b[0;34m<\u001b[0m \u001b[0;34m-\u001b[0m\u001b[0mlen_axis\u001b[0m\u001b[0;34m:\u001b[0m\u001b[0;34m\u001b[0m\u001b[0;34m\u001b[0m\u001b[0m\n\u001b[0;32m-> 1437\u001b[0;31m             \u001b[0;32mraise\u001b[0m \u001b[0mIndexError\u001b[0m\u001b[0;34m(\u001b[0m\u001b[0;34m\"single positional indexer is out-of-bounds\"\u001b[0m\u001b[0;34m)\u001b[0m\u001b[0;34m\u001b[0m\u001b[0;34m\u001b[0m\u001b[0m\n\u001b[0m\u001b[1;32m   1438\u001b[0m \u001b[0;34m\u001b[0m\u001b[0m\n\u001b[1;32m   1439\u001b[0m     \u001b[0;31m# -------------------------------------------------------------------\u001b[0m\u001b[0;34m\u001b[0m\u001b[0;34m\u001b[0m\u001b[0;34m\u001b[0m\u001b[0m\n",
      "\u001b[0;31mIndexError\u001b[0m: single positional indexer is out-of-bounds"
     ]
    }
   ],
   "source": [
    "#import time\n",
    "#rows_title = []\n",
    "#rows_author = []\n",
    "#rows_year = []\n",
    "for i in range(44,45):\n",
    "    a = df.iloc[i]['DOI (se houver)']\n",
    "    search_query = scholarly.search_pubs(a)\n",
    "    pub = next(search_query)\n",
    "    rows_author.append(pub['bib']['author'])\n",
    "    rows_title.append(pub['bib']['title'])\n",
    "    rows_year.append(pub['bib']['pub_year'])\n",
    "    time.sleep(45)\n",
    "    print(i)"
   ]
  },
  {
   "cell_type": "code",
   "execution_count": 42,
   "metadata": {},
   "outputs": [
    {
     "data": {
      "text/plain": [
       "40"
      ]
     },
     "execution_count": 42,
     "metadata": {},
     "output_type": "execute_result"
    }
   ],
   "source": [
    "len(rows_title)"
   ]
  },
  {
   "cell_type": "code",
   "execution_count": 44,
   "metadata": {},
   "outputs": [],
   "source": [
    "df['title'] = rows_title\n",
    "df['author'] = rows_author\n",
    "df['year'] = rows_year"
   ]
  },
  {
   "cell_type": "code",
   "execution_count": 45,
   "metadata": {},
   "outputs": [
    {
     "data": {
      "text/html": [
       "<div>\n",
       "<style scoped>\n",
       "    .dataframe tbody tr th:only-of-type {\n",
       "        vertical-align: middle;\n",
       "    }\n",
       "\n",
       "    .dataframe tbody tr th {\n",
       "        vertical-align: top;\n",
       "    }\n",
       "\n",
       "    .dataframe thead th {\n",
       "        text-align: right;\n",
       "    }\n",
       "</style>\n",
       "<table border=\"1\" class=\"dataframe\">\n",
       "  <thead>\n",
       "    <tr style=\"text-align: right;\">\n",
       "      <th></th>\n",
       "      <th>DOI (se houver)</th>\n",
       "      <th>title</th>\n",
       "      <th>author</th>\n",
       "      <th>year</th>\n",
       "    </tr>\n",
       "  </thead>\n",
       "  <tbody>\n",
       "    <tr>\n",
       "      <th>0</th>\n",
       "      <td>doi.org/10.1016/j.jsames.2020.102631</td>\n",
       "      <td>New palynostratigraphic data of the Irati (Ass...</td>\n",
       "      <td>[HV Rocha, M Mendes, Z Pereira, C Rodrigues]</td>\n",
       "      <td>2020</td>\n",
       "    </tr>\n",
       "    <tr>\n",
       "      <th>1</th>\n",
       "      <td>doi.org/10.1016/j.cogsc.2020.100386</td>\n",
       "      <td>Hydrogenation of carbon dioxide: from waste to...</td>\n",
       "      <td>[AH Braga, P Vidinha, LM Rossi]</td>\n",
       "      <td>2020</td>\n",
       "    </tr>\n",
       "    <tr>\n",
       "      <th>2</th>\n",
       "      <td>doi.org/10.1016/j.atmosenv.2020.117814</td>\n",
       "      <td>PM emissions from heavy-duty trucks and their ...</td>\n",
       "      <td>[ACR Teixeira, RR Borges, PG Machado]</td>\n",
       "      <td>2020</td>\n",
       "    </tr>\n",
       "    <tr>\n",
       "      <th>3</th>\n",
       "      <td>doi.org/10.1016/j.tranpol.2020.08.023</td>\n",
       "      <td>Public policies to implement alternative fuels...</td>\n",
       "      <td>[ACR Teixeira, PG Machado, RR Borges, D Mouette]</td>\n",
       "      <td>2020</td>\n",
       "    </tr>\n",
       "    <tr>\n",
       "      <th>4</th>\n",
       "      <td>doi.org/10.1016/j.rser.2020.110296</td>\n",
       "      <td>Sugarcane for bioethanol production: Potential...</td>\n",
       "      <td>[J Huang, MT Khan, D Perecin, ST Coelho]</td>\n",
       "      <td>2020</td>\n",
       "    </tr>\n",
       "  </tbody>\n",
       "</table>\n",
       "</div>"
      ],
      "text/plain": [
       "                           DOI (se houver)  \\\n",
       "0     doi.org/10.1016/j.jsames.2020.102631   \n",
       "1      doi.org/10.1016/j.cogsc.2020.100386   \n",
       "2   doi.org/10.1016/j.atmosenv.2020.117814   \n",
       "3    doi.org/10.1016/j.tranpol.2020.08.023   \n",
       "4       doi.org/10.1016/j.rser.2020.110296   \n",
       "\n",
       "                                               title  \\\n",
       "0  New palynostratigraphic data of the Irati (Ass...   \n",
       "1  Hydrogenation of carbon dioxide: from waste to...   \n",
       "2  PM emissions from heavy-duty trucks and their ...   \n",
       "3  Public policies to implement alternative fuels...   \n",
       "4  Sugarcane for bioethanol production: Potential...   \n",
       "\n",
       "                                             author  year  \n",
       "0      [HV Rocha, M Mendes, Z Pereira, C Rodrigues]  2020  \n",
       "1                   [AH Braga, P Vidinha, LM Rossi]  2020  \n",
       "2             [ACR Teixeira, RR Borges, PG Machado]  2020  \n",
       "3  [ACR Teixeira, PG Machado, RR Borges, D Mouette]  2020  \n",
       "4          [J Huang, MT Khan, D Perecin, ST Coelho]  2020  "
      ]
     },
     "execution_count": 45,
     "metadata": {},
     "output_type": "execute_result"
    }
   ],
   "source": [
    "df.head()"
   ]
  },
  {
   "cell_type": "code",
   "execution_count": 56,
   "metadata": {},
   "outputs": [],
   "source": [
    "df.to_csv('banco.csv')"
   ]
  },
  {
   "cell_type": "code",
   "execution_count": 50,
   "metadata": {},
   "outputs": [],
   "source": [
    "import json\n",
    "\n",
    "with open('output.txt') as json_file:\n",
    "    data = json.load(json_file)"
   ]
  },
  {
   "cell_type": "code",
   "execution_count": 53,
   "metadata": {},
   "outputs": [
    {
     "data": {
      "text/plain": [
       "40"
      ]
     },
     "execution_count": 53,
     "metadata": {},
     "output_type": "execute_result"
    }
   ],
   "source": [
    "data = data[:40]\n",
    "len(data)"
   ]
  },
  {
   "cell_type": "code",
   "execution_count": 54,
   "metadata": {},
   "outputs": [],
   "source": [
    "df['abstract'] = data"
   ]
  },
  {
   "cell_type": "code",
   "execution_count": 55,
   "metadata": {},
   "outputs": [
    {
     "data": {
      "text/html": [
       "<div>\n",
       "<style scoped>\n",
       "    .dataframe tbody tr th:only-of-type {\n",
       "        vertical-align: middle;\n",
       "    }\n",
       "\n",
       "    .dataframe tbody tr th {\n",
       "        vertical-align: top;\n",
       "    }\n",
       "\n",
       "    .dataframe thead th {\n",
       "        text-align: right;\n",
       "    }\n",
       "</style>\n",
       "<table border=\"1\" class=\"dataframe\">\n",
       "  <thead>\n",
       "    <tr style=\"text-align: right;\">\n",
       "      <th></th>\n",
       "      <th>DOI (se houver)</th>\n",
       "      <th>title</th>\n",
       "      <th>author</th>\n",
       "      <th>year</th>\n",
       "      <th>abstract</th>\n",
       "    </tr>\n",
       "  </thead>\n",
       "  <tbody>\n",
       "    <tr>\n",
       "      <th>0</th>\n",
       "      <td>doi.org/10.1016/j.jsames.2020.102631</td>\n",
       "      <td>New palynostratigraphic data of the Irati (Ass...</td>\n",
       "      <td>[HV Rocha, M Mendes, Z Pereira, C Rodrigues]</td>\n",
       "      <td>2020</td>\n",
       "      <td>This research presents the palynostratigraphy ...</td>\n",
       "    </tr>\n",
       "    <tr>\n",
       "      <th>1</th>\n",
       "      <td>doi.org/10.1016/j.cogsc.2020.100386</td>\n",
       "      <td>Hydrogenation of carbon dioxide: from waste to...</td>\n",
       "      <td>[AH Braga, P Vidinha, LM Rossi]</td>\n",
       "      <td>2020</td>\n",
       "      <td>Atmospheric carbon dioxide concentration has b...</td>\n",
       "    </tr>\n",
       "    <tr>\n",
       "      <th>2</th>\n",
       "      <td>doi.org/10.1016/j.atmosenv.2020.117814</td>\n",
       "      <td>PM emissions from heavy-duty trucks and their ...</td>\n",
       "      <td>[ACR Teixeira, RR Borges, PG Machado]</td>\n",
       "      <td>2020</td>\n",
       "      <td>The Brazilian transport system is based on the...</td>\n",
       "    </tr>\n",
       "    <tr>\n",
       "      <th>3</th>\n",
       "      <td>doi.org/10.1016/j.tranpol.2020.08.023</td>\n",
       "      <td>Public policies to implement alternative fuels...</td>\n",
       "      <td>[ACR Teixeira, PG Machado, RR Borges, D Mouette]</td>\n",
       "      <td>2020</td>\n",
       "      <td>Over the last century, several public policies...</td>\n",
       "    </tr>\n",
       "    <tr>\n",
       "      <th>4</th>\n",
       "      <td>doi.org/10.1016/j.rser.2020.110296</td>\n",
       "      <td>Sugarcane for bioethanol production: Potential...</td>\n",
       "      <td>[J Huang, MT Khan, D Perecin, ST Coelho]</td>\n",
       "      <td>2020</td>\n",
       "      <td>Being a massive grower of sugarcane, China cou...</td>\n",
       "    </tr>\n",
       "  </tbody>\n",
       "</table>\n",
       "</div>"
      ],
      "text/plain": [
       "                           DOI (se houver)  \\\n",
       "0     doi.org/10.1016/j.jsames.2020.102631   \n",
       "1      doi.org/10.1016/j.cogsc.2020.100386   \n",
       "2   doi.org/10.1016/j.atmosenv.2020.117814   \n",
       "3    doi.org/10.1016/j.tranpol.2020.08.023   \n",
       "4       doi.org/10.1016/j.rser.2020.110296   \n",
       "\n",
       "                                               title  \\\n",
       "0  New palynostratigraphic data of the Irati (Ass...   \n",
       "1  Hydrogenation of carbon dioxide: from waste to...   \n",
       "2  PM emissions from heavy-duty trucks and their ...   \n",
       "3  Public policies to implement alternative fuels...   \n",
       "4  Sugarcane for bioethanol production: Potential...   \n",
       "\n",
       "                                             author  year  \\\n",
       "0      [HV Rocha, M Mendes, Z Pereira, C Rodrigues]  2020   \n",
       "1                   [AH Braga, P Vidinha, LM Rossi]  2020   \n",
       "2             [ACR Teixeira, RR Borges, PG Machado]  2020   \n",
       "3  [ACR Teixeira, PG Machado, RR Borges, D Mouette]  2020   \n",
       "4          [J Huang, MT Khan, D Perecin, ST Coelho]  2020   \n",
       "\n",
       "                                            abstract  \n",
       "0  This research presents the palynostratigraphy ...  \n",
       "1  Atmospheric carbon dioxide concentration has b...  \n",
       "2  The Brazilian transport system is based on the...  \n",
       "3  Over the last century, several public policies...  \n",
       "4  Being a massive grower of sugarcane, China cou...  "
      ]
     },
     "execution_count": 55,
     "metadata": {},
     "output_type": "execute_result"
    }
   ],
   "source": [
    "df.head()"
   ]
  },
  {
   "cell_type": "code",
   "execution_count": 20,
   "metadata": {},
   "outputs": [],
   "source": [
    "import simplejson\n",
    "f = open('output.txt', 'w')\n",
    "simplejson.dump(rows, f)\n",
    "f.close()"
   ]
  },
  {
   "cell_type": "code",
   "execution_count": 31,
   "metadata": {},
   "outputs": [
    {
     "data": {
      "text/plain": [
       "{'title': 'New palynostratigraphic data of the Irati (Assistência Member) and the Corumbataí formations, Paraná Basin, Brazil, and correlation with other south American basins',\n",
       " 'author': ['HV Rocha', 'M Mendes', 'Z Pereira', 'C Rodrigues'],\n",
       " 'pub_year': '2020',\n",
       " 'venue': 'Journal of South …',\n",
       " 'abstract': 'This research presents the palynostratigraphy of organic-rich shales from the Irati and the Corumbataí formations, Paraná Basin (PB), Southeastern Brazil, as part of an unconventional hydrocarbon source rock and CO 2 reservoir assessment study. Thirty-four samples from the Corumbataí Formation and the Assistência Member of the Irati Formation were collected in the states of Goiás (northern border of the PB), São Paulo and Paraná (eastern and southern border of the PB, respectively). The acquired data allowed to'}"
      ]
     },
     "execution_count": 31,
     "metadata": {},
     "output_type": "execute_result"
    }
   ],
   "source": [
    "search_query = scholarly.search_pubs(' doi.org/10.1016/j.jsames.2020.102631')\n",
    "pub = next(search_query)\n",
    "pub['bib']"
   ]
  },
  {
   "cell_type": "code",
   "execution_count": 1,
   "metadata": {},
   "outputs": [],
   "source": [
    "from selenium import webdriver\n",
    "from bs4 import BeautifulSoup\n",
    "import pandas as pd"
   ]
  },
  {
   "cell_type": "code",
   "execution_count": null,
   "metadata": {},
   "outputs": [],
   "source": []
  },
  {
   "cell_type": "code",
   "execution_count": 2,
   "metadata": {},
   "outputs": [],
   "source": [
    "import requests\n",
    "from bs4 import BeautifulSoup\n",
    "\n",
    "URL = 'https://www.rcgi.poli.usp.br/scientific-papers/'\n",
    "page = requests.get(URL)\n",
    "\n",
    "soup = BeautifulSoup(page.content, 'html.parser')\n"
   ]
  },
  {
   "cell_type": "code",
   "execution_count": 3,
   "metadata": {},
   "outputs": [],
   "source": [
    "results = soup.find(id='tablepress-64')"
   ]
  },
  {
   "cell_type": "code",
   "execution_count": 4,
   "metadata": {},
   "outputs": [],
   "source": [
    "table_str = str(results)"
   ]
  },
  {
   "cell_type": "code",
   "execution_count": 5,
   "metadata": {},
   "outputs": [],
   "source": [
    "df = pd.read_html(table_str)[0]"
   ]
  },
  {
   "cell_type": "code",
   "execution_count": 6,
   "metadata": {},
   "outputs": [
    {
     "data": {
      "text/html": [
       "<div>\n",
       "<style scoped>\n",
       "    .dataframe tbody tr th:only-of-type {\n",
       "        vertical-align: middle;\n",
       "    }\n",
       "\n",
       "    .dataframe tbody tr th {\n",
       "        vertical-align: top;\n",
       "    }\n",
       "\n",
       "    .dataframe thead th {\n",
       "        text-align: right;\n",
       "    }\n",
       "</style>\n",
       "<table border=\"1\" class=\"dataframe\">\n",
       "  <thead>\n",
       "    <tr style=\"text-align: right;\">\n",
       "      <th></th>\n",
       "      <th>Unnamed: 0</th>\n",
       "      <th>Publication</th>\n",
       "      <th>Date</th>\n",
       "      <th>Related Project</th>\n",
       "      <th>PDF</th>\n",
       "    </tr>\n",
       "  </thead>\n",
       "  <tbody>\n",
       "    <tr>\n",
       "      <th>0</th>\n",
       "      <td>231</td>\n",
       "      <td>BRAGA, Adriano H.; VIDINHA, Pedro; ROSSI, Lian...</td>\n",
       "      <td>DEC 2020</td>\n",
       "      <td>30</td>\n",
       "      <td>Click here</td>\n",
       "    </tr>\n",
       "    <tr>\n",
       "      <th>1</th>\n",
       "      <td>230</td>\n",
       "      <td>KOZONOE, Camila Emilia; ALVES, Rita M. Brito; ...</td>\n",
       "      <td>DEC 2020</td>\n",
       "      <td>13</td>\n",
       "      <td>Click here</td>\n",
       "    </tr>\n",
       "    <tr>\n",
       "      <th>2</th>\n",
       "      <td>229</td>\n",
       "      <td>TEIXEIRA, Ana Carolina Rodrigues; BORGES, Raqu...</td>\n",
       "      <td>NOV 2020</td>\n",
       "      <td>25</td>\n",
       "      <td>Click here</td>\n",
       "    </tr>\n",
       "    <tr>\n",
       "      <th>3</th>\n",
       "      <td>228</td>\n",
       "      <td>HUANG, Jiangfeng; KHAN, Muhammad Tahir; PERECI...</td>\n",
       "      <td>NOV 2020</td>\n",
       "      <td>27</td>\n",
       "      <td>Click here</td>\n",
       "    </tr>\n",
       "    <tr>\n",
       "      <th>4</th>\n",
       "      <td>227</td>\n",
       "      <td>RUY, Alisson Dias da Silva; FERREIRA, Ana Luíz...</td>\n",
       "      <td>OCT 2020</td>\n",
       "      <td>14</td>\n",
       "      <td>Click here</td>\n",
       "    </tr>\n",
       "  </tbody>\n",
       "</table>\n",
       "</div>"
      ],
      "text/plain": [
       "   Unnamed: 0                                        Publication      Date  \\\n",
       "0         231  BRAGA, Adriano H.; VIDINHA, Pedro; ROSSI, Lian...  DEC 2020   \n",
       "1         230  KOZONOE, Camila Emilia; ALVES, Rita M. Brito; ...  DEC 2020   \n",
       "2         229  TEIXEIRA, Ana Carolina Rodrigues; BORGES, Raqu...  NOV 2020   \n",
       "3         228  HUANG, Jiangfeng; KHAN, Muhammad Tahir; PERECI...  NOV 2020   \n",
       "4         227  RUY, Alisson Dias da Silva; FERREIRA, Ana Luíz...  OCT 2020   \n",
       "\n",
       "  Related Project         PDF  \n",
       "0              30  Click here  \n",
       "1              13  Click here  \n",
       "2              25  Click here  \n",
       "3              27  Click here  \n",
       "4              14  Click here  "
      ]
     },
     "execution_count": 6,
     "metadata": {},
     "output_type": "execute_result"
    }
   ],
   "source": [
    "df.head()"
   ]
  },
  {
   "cell_type": "code",
   "execution_count": 11,
   "metadata": {},
   "outputs": [
    {
     "data": {
      "text/plain": [
       "'TEIXEIRA, Ana Carolina Rodrigues; BORGES, Raquel Rocha; MACHADO, Pedro Gerber; MOUETTE, Dominique; RIBEIRO, Flavia Noronha Dutra. PM emissions from heavy-duty trucks and their impacts on human health Atmospheric Environment, v. 241.'"
      ]
     },
     "execution_count": 11,
     "metadata": {},
     "output_type": "execute_result"
    }
   ],
   "source": [
    "import re\n",
    "df.Publication[2]"
   ]
  },
  {
   "cell_type": "code",
   "execution_count": 93,
   "metadata": {},
   "outputs": [],
   "source": [
    "for link in results.find_all(\"td\", class_=\"column-2\"):\n",
    "    #print(link)\n",
    "    l.append(link)"
   ]
  },
  {
   "cell_type": "code",
   "execution_count": 94,
   "metadata": {},
   "outputs": [
    {
     "ename": "TypeError",
     "evalue": "'NoneType' object is not callable",
     "output_type": "error",
     "traceback": [
      "\u001b[0;31m---------------------------------------------------------------------------\u001b[0m",
      "\u001b[0;31mTypeError\u001b[0m                                 Traceback (most recent call last)",
      "\u001b[0;32m<ipython-input-94-7438cb08fd53>\u001b[0m in \u001b[0;36m<module>\u001b[0;34m\u001b[0m\n\u001b[0;32m----> 1\u001b[0;31m \u001b[0ml\u001b[0m\u001b[0;34m[\u001b[0m\u001b[0;36m0\u001b[0m\u001b[0;34m]\u001b[0m\u001b[0;34m.\u001b[0m\u001b[0mlstrip\u001b[0m\u001b[0;34m(\u001b[0m\u001b[0;34m'target=\"_blank\">'\u001b[0m\u001b[0;34m)\u001b[0m\u001b[0;34m\u001b[0m\u001b[0;34m\u001b[0m\u001b[0m\n\u001b[0m",
      "\u001b[0;31mTypeError\u001b[0m: 'NoneType' object is not callable"
     ]
    }
   ],
   "source": [
    "l[0].lstrip('target=\"_blank\">')"
   ]
  },
  {
   "cell_type": "code",
   "execution_count": 90,
   "metadata": {},
   "outputs": [
    {
     "data": {
      "text/plain": [
       "'tablepress-64'"
      ]
     },
     "execution_count": 90,
     "metadata": {},
     "output_type": "execute_result"
    }
   ],
   "source": [
    "results.attrs['id']"
   ]
  },
  {
   "cell_type": "code",
   "execution_count": 70,
   "metadata": {},
   "outputs": [],
   "source": [
    "df['A'] = df.A.to_numpy()"
   ]
  },
  {
   "cell_type": "code",
   "execution_count": 73,
   "metadata": {},
   "outputs": [],
   "source": [
    "for td in results.find_all(\"td\",text=\"strong\"):\n",
    "    print(td.find_next_sibling(\"td\",class_=\"column-2\"))"
   ]
  },
  {
   "cell_type": "code",
   "execution_count": null,
   "metadata": {},
   "outputs": [],
   "source": []
  }
 ],
 "metadata": {
  "kernelspec": {
   "display_name": "Python 3",
   "language": "python",
   "name": "python3"
  },
  "language_info": {
   "codemirror_mode": {
    "name": "ipython",
    "version": 3
   },
   "file_extension": ".py",
   "mimetype": "text/x-python",
   "name": "python",
   "nbconvert_exporter": "python",
   "pygments_lexer": "ipython3",
   "version": "3.6.9"
  }
 },
 "nbformat": 4,
 "nbformat_minor": 4
}
